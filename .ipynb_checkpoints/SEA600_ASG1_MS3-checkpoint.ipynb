{
  "cells": [
    {
      "cell_type": "markdown",
      "metadata": {
        "id": "3LIujJL7quKD"
      },
      "source": [
        "# Milestone 1\n",
        "\n",
        "Simple traning and testing with pick up and drop off location and passenger count."
      ]
    },
    {
      "cell_type": "code",
      "execution_count": 1,
      "metadata": {
        "colab": {
          "base_uri": "https://localhost:8080/"
        },
        "id": "-cKrb5vDq2or",
        "outputId": "dab4364c-503d-4fd4-fad6-c665e4d6ff2e"
      },
      "outputs": [
        {
          "name": "stdout",
          "output_type": "stream",
          "text": [
            "Drive already mounted at /content/drive; to attempt to forcibly remount, call drive.mount(\"/content/drive\", force_remount=True).\n"
          ]
        }
      ],
      "source": [
        "# mount google drive\n",
        "\n",
        "from google.colab import drive\n",
        "drive.mount('/content/drive')"
      ]
    },
    {
      "cell_type": "code",
      "execution_count": 2,
      "metadata": {
        "id": "acJzvqhVi8ND"
      },
      "outputs": [
        {
          "ename": "ImportError",
          "evalue": "Error importing numpy: you should not try to import numpy from\n        its source directory; please exit the numpy source tree, and relaunch\n        your python interpreter from there.",
          "output_type": "error",
          "traceback": [
            "\u001b[0;31m---------------------------------------------------------------------------\u001b[0m",
            "\u001b[0;31mImportError\u001b[0m                               Traceback (most recent call last)",
            "File \u001b[0;32m~/.local/lib/python3.9/site-packages/numpy/core/__init__.py:24\u001b[0m\n\u001b[1;32m     23\u001b[0m \u001b[38;5;28;01mtry\u001b[39;00m:\n\u001b[0;32m---> 24\u001b[0m     \u001b[38;5;28;01mfrom\u001b[39;00m \u001b[38;5;21;01m.\u001b[39;00m \u001b[38;5;28;01mimport\u001b[39;00m multiarray\n\u001b[1;32m     25\u001b[0m \u001b[38;5;28;01mexcept\u001b[39;00m \u001b[38;5;167;01mImportError\u001b[39;00m \u001b[38;5;28;01mas\u001b[39;00m exc:\n",
            "File \u001b[0;32m~/.local/lib/python3.9/site-packages/numpy/core/multiarray.py:10\u001b[0m\n\u001b[1;32m      9\u001b[0m \u001b[38;5;28;01mimport\u001b[39;00m \u001b[38;5;21;01mfunctools\u001b[39;00m\n\u001b[0;32m---> 10\u001b[0m \u001b[38;5;28;01mfrom\u001b[39;00m \u001b[38;5;21;01m.\u001b[39;00m \u001b[38;5;28;01mimport\u001b[39;00m overrides\n\u001b[1;32m     11\u001b[0m \u001b[38;5;28;01mfrom\u001b[39;00m \u001b[38;5;21;01m.\u001b[39;00m \u001b[38;5;28;01mimport\u001b[39;00m _multiarray_umath\n",
            "File \u001b[0;32m~/.local/lib/python3.9/site-packages/numpy/core/overrides.py:8\u001b[0m\n\u001b[1;32m      7\u001b[0m \u001b[38;5;28;01mfrom\u001b[39;00m \u001b[38;5;21;01m.\u001b[39;00m\u001b[38;5;21;01m.\u001b[39;00m\u001b[38;5;21;01m_utils\u001b[39;00m\u001b[38;5;21;01m.\u001b[39;00m\u001b[38;5;21;01m_inspect\u001b[39;00m \u001b[38;5;28;01mimport\u001b[39;00m getargspec\n\u001b[0;32m----> 8\u001b[0m \u001b[38;5;28;01mfrom\u001b[39;00m \u001b[38;5;21;01mnumpy\u001b[39;00m\u001b[38;5;21;01m.\u001b[39;00m\u001b[38;5;21;01mcore\u001b[39;00m\u001b[38;5;21;01m.\u001b[39;00m\u001b[38;5;21;01m_multiarray_umath\u001b[39;00m \u001b[38;5;28;01mimport\u001b[39;00m (\n\u001b[1;32m      9\u001b[0m     add_docstring,  _get_implementing_args, _ArrayFunctionDispatcher)\n\u001b[1;32m     12\u001b[0m ARRAY_FUNCTIONS \u001b[38;5;241m=\u001b[39m \u001b[38;5;28mset\u001b[39m()\n",
            "\u001b[0;31mImportError\u001b[0m: dlopen(/Users/daysondong/.local/lib/python3.9/site-packages/numpy/core/_multiarray_umath.cpython-39-darwin.so, 0x0002): tried: '/Users/daysondong/.local/lib/python3.9/site-packages/numpy/core/_multiarray_umath.cpython-39-darwin.so' (mach-o file, but is an incompatible architecture (have 'x86_64', need 'arm64')), '/System/Volumes/Preboot/Cryptexes/OS/Users/daysondong/.local/lib/python3.9/site-packages/numpy/core/_multiarray_umath.cpython-39-darwin.so' (no such file), '/Users/daysondong/.local/lib/python3.9/site-packages/numpy/core/_multiarray_umath.cpython-39-darwin.so' (mach-o file, but is an incompatible architecture (have 'x86_64', need 'arm64'))",
            "\nDuring handling of the above exception, another exception occurred:\n",
            "\u001b[0;31mImportError\u001b[0m                               Traceback (most recent call last)",
            "File \u001b[0;32m~/.local/lib/python3.9/site-packages/numpy/__init__.py:130\u001b[0m\n\u001b[1;32m    129\u001b[0m \u001b[38;5;28;01mtry\u001b[39;00m:\n\u001b[0;32m--> 130\u001b[0m     \u001b[38;5;28;01mfrom\u001b[39;00m \u001b[38;5;21;01mnumpy\u001b[39;00m\u001b[38;5;21;01m.\u001b[39;00m\u001b[38;5;21;01m__config__\u001b[39;00m \u001b[38;5;28;01mimport\u001b[39;00m show \u001b[38;5;28;01mas\u001b[39;00m show_config\n\u001b[1;32m    131\u001b[0m \u001b[38;5;28;01mexcept\u001b[39;00m \u001b[38;5;167;01mImportError\u001b[39;00m \u001b[38;5;28;01mas\u001b[39;00m e:\n",
            "File \u001b[0;32m~/.local/lib/python3.9/site-packages/numpy/__config__.py:4\u001b[0m\n\u001b[1;32m      3\u001b[0m \u001b[38;5;28;01mfrom\u001b[39;00m \u001b[38;5;21;01menum\u001b[39;00m \u001b[38;5;28;01mimport\u001b[39;00m Enum\n\u001b[0;32m----> 4\u001b[0m \u001b[38;5;28;01mfrom\u001b[39;00m \u001b[38;5;21;01mnumpy\u001b[39;00m\u001b[38;5;21;01m.\u001b[39;00m\u001b[38;5;21;01mcore\u001b[39;00m\u001b[38;5;21;01m.\u001b[39;00m\u001b[38;5;21;01m_multiarray_umath\u001b[39;00m \u001b[38;5;28;01mimport\u001b[39;00m (\n\u001b[1;32m      5\u001b[0m     __cpu_features__,\n\u001b[1;32m      6\u001b[0m     __cpu_baseline__,\n\u001b[1;32m      7\u001b[0m     __cpu_dispatch__,\n\u001b[1;32m      8\u001b[0m )\n\u001b[1;32m     10\u001b[0m __all__ \u001b[38;5;241m=\u001b[39m [\u001b[38;5;124m\"\u001b[39m\u001b[38;5;124mshow\u001b[39m\u001b[38;5;124m\"\u001b[39m]\n",
            "File \u001b[0;32m~/.local/lib/python3.9/site-packages/numpy/core/__init__.py:50\u001b[0m\n\u001b[1;32m     27\u001b[0m     msg \u001b[38;5;241m=\u001b[39m \u001b[38;5;124m\"\"\"\u001b[39m\n\u001b[1;32m     28\u001b[0m \n\u001b[1;32m     29\u001b[0m \u001b[38;5;124mIMPORTANT: PLEASE READ THIS FOR ADVICE ON HOW TO SOLVE THIS ISSUE!\u001b[39m\n\u001b[0;32m   (...)\u001b[0m\n\u001b[1;32m     48\u001b[0m \u001b[38;5;124m\"\"\"\u001b[39m \u001b[38;5;241m%\u001b[39m (sys\u001b[38;5;241m.\u001b[39mversion_info[\u001b[38;5;241m0\u001b[39m], sys\u001b[38;5;241m.\u001b[39mversion_info[\u001b[38;5;241m1\u001b[39m], sys\u001b[38;5;241m.\u001b[39mexecutable,\n\u001b[1;32m     49\u001b[0m         __version__, exc)\n\u001b[0;32m---> 50\u001b[0m     \u001b[38;5;28;01mraise\u001b[39;00m \u001b[38;5;167;01mImportError\u001b[39;00m(msg)\n\u001b[1;32m     51\u001b[0m \u001b[38;5;28;01mfinally\u001b[39;00m:\n",
            "\u001b[0;31mImportError\u001b[0m: \n\nIMPORTANT: PLEASE READ THIS FOR ADVICE ON HOW TO SOLVE THIS ISSUE!\n\nImporting the numpy C-extensions failed. This error can happen for\nmany reasons, often due to issues with your setup or how NumPy was\ninstalled.\n\nWe have compiled some common reasons and troubleshooting tips at:\n\n    https://numpy.org/devdocs/user/troubleshooting-importerror.html\n\nPlease note and check the following:\n\n  * The Python version is: Python3.9 from \"/Users/daysondong/miniconda3/envs/tensorflow/bin/python\"\n  * The NumPy version is: \"1.26.2\"\n\nand make sure that they are the versions you expect.\nPlease carefully study the documentation linked above for further help.\n\nOriginal error was: dlopen(/Users/daysondong/.local/lib/python3.9/site-packages/numpy/core/_multiarray_umath.cpython-39-darwin.so, 0x0002): tried: '/Users/daysondong/.local/lib/python3.9/site-packages/numpy/core/_multiarray_umath.cpython-39-darwin.so' (mach-o file, but is an incompatible architecture (have 'x86_64', need 'arm64')), '/System/Volumes/Preboot/Cryptexes/OS/Users/daysondong/.local/lib/python3.9/site-packages/numpy/core/_multiarray_umath.cpython-39-darwin.so' (no such file), '/Users/daysondong/.local/lib/python3.9/site-packages/numpy/core/_multiarray_umath.cpython-39-darwin.so' (mach-o file, but is an incompatible architecture (have 'x86_64', need 'arm64'))\n",
            "\nThe above exception was the direct cause of the following exception:\n",
            "\u001b[0;31mImportError\u001b[0m                               Traceback (most recent call last)",
            "Cell \u001b[0;32mIn[2], line 1\u001b[0m\n\u001b[0;32m----> 1\u001b[0m \u001b[43mget_ipython\u001b[49m\u001b[43m(\u001b[49m\u001b[43m)\u001b[49m\u001b[38;5;241;43m.\u001b[39;49m\u001b[43mrun_line_magic\u001b[49m\u001b[43m(\u001b[49m\u001b[38;5;124;43m'\u001b[39;49m\u001b[38;5;124;43mmatplotlib\u001b[39;49m\u001b[38;5;124;43m'\u001b[39;49m\u001b[43m,\u001b[49m\u001b[43m \u001b[49m\u001b[38;5;124;43m'\u001b[39;49m\u001b[38;5;124;43minline\u001b[39;49m\u001b[38;5;124;43m'\u001b[39;49m\u001b[43m)\u001b[49m\n\u001b[1;32m      2\u001b[0m \u001b[38;5;66;03m# without this the plots would be opened  in a new window (not browser)\u001b[39;00m\n\u001b[1;32m      3\u001b[0m \u001b[38;5;66;03m# with this instruction plots will be included in the notebook\u001b[39;00m\n",
            "File \u001b[0;32m~/miniconda3/envs/tensorflow/lib/python3.9/site-packages/IPython/core/interactiveshell.py:2456\u001b[0m, in \u001b[0;36mInteractiveShell.run_line_magic\u001b[0;34m(self, magic_name, line, _stack_depth)\u001b[0m\n\u001b[1;32m   2454\u001b[0m     kwargs[\u001b[38;5;124m'\u001b[39m\u001b[38;5;124mlocal_ns\u001b[39m\u001b[38;5;124m'\u001b[39m] \u001b[38;5;241m=\u001b[39m \u001b[38;5;28mself\u001b[39m\u001b[38;5;241m.\u001b[39mget_local_scope(stack_depth)\n\u001b[1;32m   2455\u001b[0m \u001b[38;5;28;01mwith\u001b[39;00m \u001b[38;5;28mself\u001b[39m\u001b[38;5;241m.\u001b[39mbuiltin_trap:\n\u001b[0;32m-> 2456\u001b[0m     result \u001b[38;5;241m=\u001b[39m \u001b[43mfn\u001b[49m\u001b[43m(\u001b[49m\u001b[38;5;241;43m*\u001b[39;49m\u001b[43margs\u001b[49m\u001b[43m,\u001b[49m\u001b[43m \u001b[49m\u001b[38;5;241;43m*\u001b[39;49m\u001b[38;5;241;43m*\u001b[39;49m\u001b[43mkwargs\u001b[49m\u001b[43m)\u001b[49m\n\u001b[1;32m   2458\u001b[0m \u001b[38;5;66;03m# The code below prevents the output from being displayed\u001b[39;00m\n\u001b[1;32m   2459\u001b[0m \u001b[38;5;66;03m# when using magics with decorator @output_can_be_silenced\u001b[39;00m\n\u001b[1;32m   2460\u001b[0m \u001b[38;5;66;03m# when the last Python token in the expression is a ';'.\u001b[39;00m\n\u001b[1;32m   2461\u001b[0m \u001b[38;5;28;01mif\u001b[39;00m \u001b[38;5;28mgetattr\u001b[39m(fn, magic\u001b[38;5;241m.\u001b[39mMAGIC_OUTPUT_CAN_BE_SILENCED, \u001b[38;5;28;01mFalse\u001b[39;00m):\n",
            "File \u001b[0;32m~/miniconda3/envs/tensorflow/lib/python3.9/site-packages/IPython/core/magics/pylab.py:99\u001b[0m, in \u001b[0;36mPylabMagics.matplotlib\u001b[0;34m(self, line)\u001b[0m\n\u001b[1;32m     97\u001b[0m     \u001b[38;5;28mprint\u001b[39m(\u001b[38;5;124m\"\u001b[39m\u001b[38;5;124mAvailable matplotlib backends: \u001b[39m\u001b[38;5;132;01m%s\u001b[39;00m\u001b[38;5;124m\"\u001b[39m \u001b[38;5;241m%\u001b[39m backends_list)\n\u001b[1;32m     98\u001b[0m \u001b[38;5;28;01melse\u001b[39;00m:\n\u001b[0;32m---> 99\u001b[0m     gui, backend \u001b[38;5;241m=\u001b[39m \u001b[38;5;28;43mself\u001b[39;49m\u001b[38;5;241;43m.\u001b[39;49m\u001b[43mshell\u001b[49m\u001b[38;5;241;43m.\u001b[39;49m\u001b[43menable_matplotlib\u001b[49m\u001b[43m(\u001b[49m\u001b[43margs\u001b[49m\u001b[38;5;241;43m.\u001b[39;49m\u001b[43mgui\u001b[49m\u001b[38;5;241;43m.\u001b[39;49m\u001b[43mlower\u001b[49m\u001b[43m(\u001b[49m\u001b[43m)\u001b[49m\u001b[43m \u001b[49m\u001b[38;5;28;43;01mif\u001b[39;49;00m\u001b[43m \u001b[49m\u001b[38;5;28;43misinstance\u001b[39;49m\u001b[43m(\u001b[49m\u001b[43margs\u001b[49m\u001b[38;5;241;43m.\u001b[39;49m\u001b[43mgui\u001b[49m\u001b[43m,\u001b[49m\u001b[43m \u001b[49m\u001b[38;5;28;43mstr\u001b[39;49m\u001b[43m)\u001b[49m\u001b[43m \u001b[49m\u001b[38;5;28;43;01melse\u001b[39;49;00m\u001b[43m \u001b[49m\u001b[43margs\u001b[49m\u001b[38;5;241;43m.\u001b[39;49m\u001b[43mgui\u001b[49m\u001b[43m)\u001b[49m\n\u001b[1;32m    100\u001b[0m     \u001b[38;5;28mself\u001b[39m\u001b[38;5;241m.\u001b[39m_show_matplotlib_backend(args\u001b[38;5;241m.\u001b[39mgui, backend)\n",
            "File \u001b[0;32m~/miniconda3/envs/tensorflow/lib/python3.9/site-packages/IPython/core/interactiveshell.py:3630\u001b[0m, in \u001b[0;36mInteractiveShell.enable_matplotlib\u001b[0;34m(self, gui)\u001b[0m\n\u001b[1;32m   3609\u001b[0m \u001b[38;5;28;01mdef\u001b[39;00m \u001b[38;5;21menable_matplotlib\u001b[39m(\u001b[38;5;28mself\u001b[39m, gui\u001b[38;5;241m=\u001b[39m\u001b[38;5;28;01mNone\u001b[39;00m):\n\u001b[1;32m   3610\u001b[0m \u001b[38;5;250m    \u001b[39m\u001b[38;5;124;03m\"\"\"Enable interactive matplotlib and inline figure support.\u001b[39;00m\n\u001b[1;32m   3611\u001b[0m \n\u001b[1;32m   3612\u001b[0m \u001b[38;5;124;03m    This takes the following steps:\u001b[39;00m\n\u001b[0;32m   (...)\u001b[0m\n\u001b[1;32m   3628\u001b[0m \u001b[38;5;124;03m        display figures inline.\u001b[39;00m\n\u001b[1;32m   3629\u001b[0m \u001b[38;5;124;03m    \"\"\"\u001b[39;00m\n\u001b[0;32m-> 3630\u001b[0m     \u001b[38;5;28;01mfrom\u001b[39;00m \u001b[38;5;21;01mmatplotlib_inline\u001b[39;00m\u001b[38;5;21;01m.\u001b[39;00m\u001b[38;5;21;01mbackend_inline\u001b[39;00m \u001b[38;5;28;01mimport\u001b[39;00m configure_inline_support\n\u001b[1;32m   3632\u001b[0m     \u001b[38;5;28;01mfrom\u001b[39;00m \u001b[38;5;21;01mIPython\u001b[39;00m\u001b[38;5;21;01m.\u001b[39;00m\u001b[38;5;21;01mcore\u001b[39;00m \u001b[38;5;28;01mimport\u001b[39;00m pylabtools \u001b[38;5;28;01mas\u001b[39;00m pt\n\u001b[1;32m   3633\u001b[0m     gui, backend \u001b[38;5;241m=\u001b[39m pt\u001b[38;5;241m.\u001b[39mfind_gui_and_backend(gui, \u001b[38;5;28mself\u001b[39m\u001b[38;5;241m.\u001b[39mpylab_gui_select)\n",
            "File \u001b[0;32m~/miniconda3/envs/tensorflow/lib/python3.9/site-packages/matplotlib_inline/__init__.py:1\u001b[0m\n\u001b[0;32m----> 1\u001b[0m \u001b[38;5;28;01mfrom\u001b[39;00m \u001b[38;5;21;01m.\u001b[39;00m \u001b[38;5;28;01mimport\u001b[39;00m backend_inline, config  \u001b[38;5;66;03m# noqa\u001b[39;00m\n\u001b[1;32m      2\u001b[0m __version__ \u001b[38;5;241m=\u001b[39m \u001b[38;5;124m\"\u001b[39m\u001b[38;5;124m0.1.6\u001b[39m\u001b[38;5;124m\"\u001b[39m  \u001b[38;5;66;03m# noqa\u001b[39;00m\n",
            "File \u001b[0;32m~/miniconda3/envs/tensorflow/lib/python3.9/site-packages/matplotlib_inline/backend_inline.py:6\u001b[0m\n\u001b[1;32m      1\u001b[0m \u001b[38;5;124;03m\"\"\"A matplotlib backend for publishing figures via display_data\"\"\"\u001b[39;00m\n\u001b[1;32m      3\u001b[0m \u001b[38;5;66;03m# Copyright (c) IPython Development Team.\u001b[39;00m\n\u001b[1;32m      4\u001b[0m \u001b[38;5;66;03m# Distributed under the terms of the BSD 3-Clause License.\u001b[39;00m\n\u001b[0;32m----> 6\u001b[0m \u001b[38;5;28;01mimport\u001b[39;00m \u001b[38;5;21;01mmatplotlib\u001b[39;00m\n\u001b[1;32m      7\u001b[0m \u001b[38;5;28;01mfrom\u001b[39;00m \u001b[38;5;21;01mmatplotlib\u001b[39;00m \u001b[38;5;28;01mimport\u001b[39;00m colors\n\u001b[1;32m      8\u001b[0m \u001b[38;5;28;01mfrom\u001b[39;00m \u001b[38;5;21;01mmatplotlib\u001b[39;00m\u001b[38;5;21;01m.\u001b[39;00m\u001b[38;5;21;01mbackends\u001b[39;00m \u001b[38;5;28;01mimport\u001b[39;00m backend_agg\n",
            "File \u001b[0;32m~/miniconda3/envs/tensorflow/lib/python3.9/site-packages/matplotlib/__init__.py:156\u001b[0m\n\u001b[1;32m    153\u001b[0m \u001b[38;5;28;01mimport\u001b[39;00m \u001b[38;5;21;01mtempfile\u001b[39;00m\n\u001b[1;32m    154\u001b[0m \u001b[38;5;28;01mimport\u001b[39;00m \u001b[38;5;21;01mwarnings\u001b[39;00m\n\u001b[0;32m--> 156\u001b[0m \u001b[38;5;28;01mimport\u001b[39;00m \u001b[38;5;21;01mnumpy\u001b[39;00m\n\u001b[1;32m    157\u001b[0m \u001b[38;5;28;01mfrom\u001b[39;00m \u001b[38;5;21;01mpackaging\u001b[39;00m\u001b[38;5;21;01m.\u001b[39;00m\u001b[38;5;21;01mversion\u001b[39;00m \u001b[38;5;28;01mimport\u001b[39;00m parse \u001b[38;5;28;01mas\u001b[39;00m parse_version\n\u001b[1;32m    159\u001b[0m \u001b[38;5;66;03m# cbook must import matplotlib only within function\u001b[39;00m\n\u001b[1;32m    160\u001b[0m \u001b[38;5;66;03m# definitions, so it is safe to import from it here.\u001b[39;00m\n",
            "File \u001b[0;32m~/.local/lib/python3.9/site-packages/numpy/__init__.py:135\u001b[0m\n\u001b[1;32m    131\u001b[0m \u001b[38;5;28;01mexcept\u001b[39;00m \u001b[38;5;167;01mImportError\u001b[39;00m \u001b[38;5;28;01mas\u001b[39;00m e:\n\u001b[1;32m    132\u001b[0m     msg \u001b[38;5;241m=\u001b[39m \u001b[38;5;124m\"\"\"\u001b[39m\u001b[38;5;124mError importing numpy: you should not try to import numpy from\u001b[39m\n\u001b[1;32m    133\u001b[0m \u001b[38;5;124m    its source directory; please exit the numpy source tree, and relaunch\u001b[39m\n\u001b[1;32m    134\u001b[0m \u001b[38;5;124m    your python interpreter from there.\u001b[39m\u001b[38;5;124m\"\"\"\u001b[39m\n\u001b[0;32m--> 135\u001b[0m     \u001b[38;5;28;01mraise\u001b[39;00m \u001b[38;5;167;01mImportError\u001b[39;00m(msg) \u001b[38;5;28;01mfrom\u001b[39;00m \u001b[38;5;21;01me\u001b[39;00m\n\u001b[1;32m    137\u001b[0m __all__ \u001b[38;5;241m=\u001b[39m [\n\u001b[1;32m    138\u001b[0m     \u001b[38;5;124m'\u001b[39m\u001b[38;5;124mexceptions\u001b[39m\u001b[38;5;124m'\u001b[39m, \u001b[38;5;124m'\u001b[39m\u001b[38;5;124mModuleDeprecationWarning\u001b[39m\u001b[38;5;124m'\u001b[39m, \u001b[38;5;124m'\u001b[39m\u001b[38;5;124mVisibleDeprecationWarning\u001b[39m\u001b[38;5;124m'\u001b[39m,\n\u001b[1;32m    139\u001b[0m     \u001b[38;5;124m'\u001b[39m\u001b[38;5;124mComplexWarning\u001b[39m\u001b[38;5;124m'\u001b[39m, \u001b[38;5;124m'\u001b[39m\u001b[38;5;124mTooHardError\u001b[39m\u001b[38;5;124m'\u001b[39m, \u001b[38;5;124m'\u001b[39m\u001b[38;5;124mAxisError\u001b[39m\u001b[38;5;124m'\u001b[39m]\n\u001b[1;32m    141\u001b[0m \u001b[38;5;66;03m# mapping of {name: (value, deprecation_msg)}\u001b[39;00m\n",
            "\u001b[0;31mImportError\u001b[0m: Error importing numpy: you should not try to import numpy from\n        its source directory; please exit the numpy source tree, and relaunch\n        your python interpreter from there."
          ]
        }
      ],
      "source": [
        "%matplotlib inline\n",
        "# without this the plots would be opened  in a new window (not browser)\n",
        "# with this instruction plots will be included in the notebook"
      ]
    },
    {
      "cell_type": "code",
      "execution_count": 11,
      "metadata": {
        "id": "Sdk6258Oi83W"
      },
      "outputs": [],
      "source": [
        "# Use %config InlineBackend.figure_format = 'retina'\n",
        "# after %matplotlib inline to render higher resolution images\n",
        "%config InlineBackend.figure_format = 'retina'"
      ]
    },
    {
      "cell_type": "markdown",
      "metadata": {
        "id": "qiyWGYXXkPRu"
      },
      "source": [
        "## Getting Started"
      ]
    },
    {
      "cell_type": "code",
      "execution_count": 8,
      "metadata": {
        "id": "fPTCyq05jWF8"
      },
      "outputs": [
        {
          "ename": "ImportError",
          "evalue": "Unable to import required dependencies:\nnumpy: Error importing numpy: you should not try to import numpy from\n        its source directory; please exit the numpy source tree, and relaunch\n        your python interpreter from there.",
          "output_type": "error",
          "traceback": [
            "\u001b[0;31m---------------------------------------------------------------------------\u001b[0m",
            "\u001b[0;31mImportError\u001b[0m                               Traceback (most recent call last)",
            "Cell \u001b[0;32mIn[8], line 2\u001b[0m\n\u001b[1;32m      1\u001b[0m \u001b[38;5;66;03m# Loading neccesary libraries:\u001b[39;00m\n\u001b[0;32m----> 2\u001b[0m \u001b[38;5;28;01mimport\u001b[39;00m \u001b[38;5;21;01mpandas\u001b[39;00m \u001b[38;5;28;01mas\u001b[39;00m \u001b[38;5;21;01mpd\u001b[39;00m\n\u001b[1;32m      3\u001b[0m \u001b[38;5;28;01mimport\u001b[39;00m \u001b[38;5;21;01mnumpy\u001b[39;00m \u001b[38;5;28;01mas\u001b[39;00m \u001b[38;5;21;01mnp\u001b[39;00m\n\u001b[1;32m      4\u001b[0m \u001b[38;5;28;01mimport\u001b[39;00m \u001b[38;5;21;01mmatplotlib\u001b[39;00m\u001b[38;5;21;01m.\u001b[39;00m\u001b[38;5;21;01mpyplot\u001b[39;00m \u001b[38;5;28;01mas\u001b[39;00m \u001b[38;5;21;01mplt\u001b[39;00m\n",
            "File \u001b[0;32m~/miniconda3/envs/tensorflow/lib/python3.9/site-packages/pandas/__init__.py:16\u001b[0m\n\u001b[1;32m     13\u001b[0m         _missing_dependencies\u001b[38;5;241m.\u001b[39mappend(\u001b[38;5;124mf\u001b[39m\u001b[38;5;124m\"\u001b[39m\u001b[38;5;132;01m{\u001b[39;00m_dependency\u001b[38;5;132;01m}\u001b[39;00m\u001b[38;5;124m: \u001b[39m\u001b[38;5;132;01m{\u001b[39;00m_e\u001b[38;5;132;01m}\u001b[39;00m\u001b[38;5;124m\"\u001b[39m)\n\u001b[1;32m     15\u001b[0m \u001b[38;5;28;01mif\u001b[39;00m _missing_dependencies:  \u001b[38;5;66;03m# pragma: no cover\u001b[39;00m\n\u001b[0;32m---> 16\u001b[0m     \u001b[38;5;28;01mraise\u001b[39;00m \u001b[38;5;167;01mImportError\u001b[39;00m(\n\u001b[1;32m     17\u001b[0m         \u001b[38;5;124m\"\u001b[39m\u001b[38;5;124mUnable to import required dependencies:\u001b[39m\u001b[38;5;130;01m\\n\u001b[39;00m\u001b[38;5;124m\"\u001b[39m \u001b[38;5;241m+\u001b[39m \u001b[38;5;124m\"\u001b[39m\u001b[38;5;130;01m\\n\u001b[39;00m\u001b[38;5;124m\"\u001b[39m\u001b[38;5;241m.\u001b[39mjoin(_missing_dependencies)\n\u001b[1;32m     18\u001b[0m     )\n\u001b[1;32m     19\u001b[0m \u001b[38;5;28;01mdel\u001b[39;00m _hard_dependencies, _dependency, _missing_dependencies\n\u001b[1;32m     21\u001b[0m \u001b[38;5;28;01mtry\u001b[39;00m:\n\u001b[1;32m     22\u001b[0m     \u001b[38;5;66;03m# numpy compat\u001b[39;00m\n",
            "\u001b[0;31mImportError\u001b[0m: Unable to import required dependencies:\nnumpy: Error importing numpy: you should not try to import numpy from\n        its source directory; please exit the numpy source tree, and relaunch\n        your python interpreter from there."
          ]
        }
      ],
      "source": [
        "# Loading neccesary libraries:\n",
        "import pandas as pd\n",
        "import numpy as np\n",
        "import matplotlib.pyplot as plt\n",
        "import seaborn as sns\n",
        "from sklearn import metrics\n",
        "from sklearn.tree import DecisionTreeClassifier, export_graphviz, plot_tree"
      ]
    },
    {
      "cell_type": "code",
      "execution_count": null,
      "metadata": {
        "id": "CFgYtwa3lUiX"
      },
      "outputs": [],
      "source": [
        "# reading the uber data from dataset to a panda dataframe\n",
        "data=pd.read_parquet('drive/My Drive/Colab Notebooks/ML_ASG1_DATA/fhvhv_tripdata_2022-11.parquet')\n",
        "data.describe()"
      ]
    },
    {
      "cell_type": "code",
      "execution_count": null,
      "metadata": {
        "id": "9Se4qF7XmAlz"
      },
      "outputs": [],
      "source": [
        "data.head(10)"
      ]
    },
    {
      "cell_type": "markdown",
      "metadata": {
        "id": "kSK1x9QfvmOG"
      },
      "source": [
        "## Data Exploration and Preprocessing"
      ]
    },
    {
      "cell_type": "markdown",
      "metadata": {
        "id": "N212NgbKrJcu"
      },
      "source": [
        "### Dropping rows with negative values in the fees"
      ]
    },
    {
      "cell_type": "code",
      "execution_count": null,
      "metadata": {
        "id": "ftbjSp9sifNg"
      },
      "outputs": [],
      "source": [
        "## dropping rows with negative values\n",
        "fares = ['base_passenger_fare', 'tolls', 'bcf', 'sales_tax', 'driver_pay', 'tips', 'congestion_surcharge', 'airport_fee']\n",
        "data = data[(data[fares] >= 0).all(axis=1)]"
      ]
    },
    {
      "cell_type": "code",
      "execution_count": null,
      "metadata": {
        "id": "3x5HgBb-jhJu"
      },
      "outputs": [],
      "source": [
        "data.describe()"
      ]
    },
    {
      "cell_type": "markdown",
      "metadata": {
        "id": "JFRow1hrrS3H"
      },
      "source": [
        "### Sanitizing rows with 0 in fare, miles, taxes and time etc"
      ]
    },
    {
      "cell_type": "markdown",
      "metadata": {
        "id": "3-dGqEAKuvXq"
      },
      "source": [
        "#### Fare"
      ]
    },
    {
      "cell_type": "code",
      "execution_count": null,
      "metadata": {
        "id": "9C4kGT26jo3n"
      },
      "outputs": [],
      "source": [
        "data[data['base_passenger_fare'] == 0.0]"
      ]
    },
    {
      "cell_type": "code",
      "execution_count": null,
      "metadata": {
        "id": "9VRJ_vGwj6gj"
      },
      "outputs": [],
      "source": [
        "## dropping rows with 0 fare\n",
        "data = data[data['base_passenger_fare'] != 0.0]"
      ]
    },
    {
      "cell_type": "code",
      "execution_count": null,
      "metadata": {
        "id": "uGa2fuKxkFYL"
      },
      "outputs": [],
      "source": [
        "data.describe()"
      ]
    },
    {
      "cell_type": "markdown",
      "metadata": {
        "id": "FlZWKORMux7j"
      },
      "source": [
        "#### Taxes"
      ]
    },
    {
      "cell_type": "code",
      "execution_count": null,
      "metadata": {
        "id": "oxfb0A61uR2M"
      },
      "outputs": [],
      "source": [
        "data[data['sales_tax'] == 0.0]"
      ]
    },
    {
      "cell_type": "code",
      "execution_count": null,
      "metadata": {
        "id": "Q7vThxeOwpmd"
      },
      "outputs": [],
      "source": [
        "tax_rate = 0.08875"
      ]
    },
    {
      "cell_type": "code",
      "execution_count": null,
      "metadata": {
        "id": "vNs98o7ru3Dg"
      },
      "outputs": [],
      "source": [
        "# calculating taxes based on fare\n",
        "data.loc[data['sales_tax'] == 0, 'sales_tax'] = ( (data['base_passenger_fare'] + data['airport_fee'] +  data['tolls'])* tax_rate).round(2)"
      ]
    },
    {
      "cell_type": "code",
      "execution_count": null,
      "metadata": {
        "id": "tQ1hDhYVu83I"
      },
      "outputs": [],
      "source": [
        "data[data['sales_tax'] == 0.0]"
      ]
    },
    {
      "cell_type": "code",
      "execution_count": null,
      "metadata": {
        "id": "xpdGbC-evZw_"
      },
      "outputs": [],
      "source": [
        "## dropping rows with 0 taxes\n",
        "data = data[data['sales_tax'] != 0.0]"
      ]
    },
    {
      "cell_type": "code",
      "execution_count": null,
      "metadata": {
        "id": "aJOB7f-WwdP2"
      },
      "outputs": [],
      "source": [
        "data[data['sales_tax'] == 0.0]"
      ]
    },
    {
      "cell_type": "markdown",
      "metadata": {
        "id": "gwTUKIsuvpOo"
      },
      "source": [
        "#### Fare"
      ]
    },
    {
      "cell_type": "code",
      "execution_count": null,
      "metadata": {
        "id": "l6_5okTEsgv7"
      },
      "outputs": [],
      "source": [
        "data['fare'] = (data['sales_tax'] / tax_rate) - data['tolls'] - data['airport_fee'] - data['bcf'] - data['congestion_surcharge']\n",
        "data[data['base_passenger_fare'] < data['fare'] - 0.12][['base_passenger_fare', 'fare', 'driver_pay', 'sales_tax', 'congestion_surcharge', 'tolls', 'bcf', 'airport_fee', 'tips']]# 0.12 error due to rounding\n",
        "# data2[['base_passenger_fare', 'fare', 'driver_pay', 'sales_tax', 'congestion_surcharge', 'tolls', 'bcf', 'airport_fee', 'tips']]"
      ]
    },
    {
      "cell_type": "code",
      "execution_count": null,
      "metadata": {
        "id": "0Pb8d3Ex2Iwv"
      },
      "outputs": [],
      "source": [
        "data[data['base_passenger_fare'] > data['fare']][['base_passenger_fare', 'fare', 'driver_pay', 'sales_tax', 'congestion_surcharge', 'tolls', 'bcf', 'airport_fee', 'tips']]"
      ]
    },
    {
      "cell_type": "code",
      "execution_count": null,
      "metadata": {
        "id": "NZ6WyFa71ukN"
      },
      "outputs": [],
      "source": [
        "data.loc[df['base_fare'] < data['fare'], 'base_fare'] = df['fare']"
      ]
    },
    {
      "cell_type": "code",
      "execution_count": null,
      "metadata": {
        "id": "UgwHSCt5pSz8"
      },
      "outputs": [],
      "source": [
        "data[data['trip_miles'] == 0.0]"
      ]
    },
    {
      "cell_type": "code",
      "execution_count": null,
      "metadata": {
        "id": "auA-p1AftQEu"
      },
      "outputs": [],
      "source": [
        "data[['base_passenger_fare', 'driver_pay', 'sales_tax']].head(10)"
      ]
    },
    {
      "cell_type": "code",
      "execution_count": null,
      "metadata": {
        "id": "2G2drAFhpbwP"
      },
      "outputs": [],
      "source": [
        "data[data['trip_time'] == 0.0]"
      ]
    },
    {
      "cell_type": "markdown",
      "metadata": {
        "id": "NIx-rm5QkMmX"
      },
      "source": [
        "## Missing values"
      ]
    },
    {
      "cell_type": "code",
      "execution_count": null,
      "metadata": {
        "id": "OZTJ2V_okMKx"
      },
      "outputs": [],
      "source": [
        "missing_values = data.isnull().sum()\n",
        "missing_values"
      ]
    },
    {
      "cell_type": "markdown",
      "metadata": {
        "id": "fw8I3BEHNsUT"
      },
      "source": [
        "### Dropping features that are not useful"
      ]
    },
    {
      "cell_type": "code",
      "execution_count": null,
      "metadata": {
        "id": "Y6CVepiE4IMa"
      },
      "outputs": [],
      "source": [
        "#drop columns that are not useful\n",
        "data.drop(columns=['dispatching_base_num', 'originating_base_num', 'request_datetime', 'on_scene_datetime'], inplace=True)"
      ]
    },
    {
      "cell_type": "markdown",
      "metadata": {
        "id": "UIAO005mks_u"
      },
      "source": [
        "#### Making \"total_fare\""
      ]
    },
    {
      "cell_type": "code",
      "execution_count": null,
      "metadata": {
        "id": "RvicQN85PEs_"
      },
      "outputs": [],
      "source": [
        "# make a new feature called \"total_fare\" thats the sum of of these features: base_passenger_fare+tolls+bcf+sales_tax+congestion_surcharge +airport_fee\n",
        "data[\"total_fare\"] = data[\"base_passenger_fare\"] + data[\"tolls\"] + data[\"bcf\"] + data[\"sales_tax\"] + data[\"congestion_surcharge\"] + data[\"airport_fee\"]\n"
      ]
    },
    {
      "cell_type": "code",
      "execution_count": null,
      "metadata": {
        "id": "sDWwKq3gQ_Z6"
      },
      "outputs": [],
      "source": [
        "# fares = ['base_passenger_fare', 'tolls', 'bcf', 'sales_tax', 'driver_pay', 'tips', 'congestion_surcharge', 'airport_fee']\n",
        "# dropping redundant features, tips is not relevant\n",
        "data.drop(columns=fares, inplace=True)"
      ]
    },
    {
      "cell_type": "code",
      "execution_count": null,
      "metadata": {
        "id": "cXmhYPsvS6L2"
      },
      "outputs": [],
      "source": [
        "## checking correlation for some features\n",
        "corr_data = data[['shared_request_flag', 'shared_match_flag', 'access_a_ride_flag', 'wav_request_flag', 'wav_match_flag', 'total_fare']]\n",
        "\n",
        "def map_values(value):\n",
        "    if pd.isnull(value) or value == 'N':\n",
        "        return 0\n",
        "    elif value == 'Y':\n",
        "        return 1\n",
        "    return value\n",
        "\n",
        "features = ['shared_request_flag', 'shared_match_flag', 'access_a_ride_flag', 'wav_request_flag', 'wav_match_flag']\n",
        "## mapping Y to 1 and N or null to 0\n",
        "for feature in features:\n",
        "    corr_data[feature] = corr_data[feature].apply(map_values)\n"
      ]
    },
    {
      "cell_type": "code",
      "execution_count": null,
      "metadata": {
        "id": "1zUnfldfYb_O"
      },
      "outputs": [],
      "source": [
        "## generating correlation heatmap\n",
        "plt.figure(figsize = (10, 10))\n",
        "sns.heatmap(corr_data.corr(), annot = True)"
      ]
    },
    {
      "cell_type": "code",
      "execution_count": null,
      "metadata": {
        "id": "ko_9jF7OY7Jb"
      },
      "outputs": [],
      "source": [
        "## heatmap shows no strong correlation between these features and total_fare\n",
        "## dropping features\n",
        "data.drop(columns=features, inplace=True)"
      ]
    },
    {
      "cell_type": "markdown",
      "metadata": {
        "id": "uZf5xsjfl2As"
      },
      "source": [
        "### Making new feature 'is_airport_trip'\n",
        "\n",
        "airport trip charges additional $2.5"
      ]
    },
    {
      "cell_type": "code",
      "execution_count": null,
      "metadata": {
        "id": "3fcuG9BLR79H"
      },
      "outputs": [],
      "source": [
        "## airport_fee: $2.50 for both drop off and pick up at LaGuardia, Newark, and John F. Kennedy airports\n",
        "## Location IDs:\n",
        "## LaGuardia = 138\n",
        "## Newark = 1\n",
        "## JFK = 132\n",
        "\n",
        "airport_locationIDs = [138, 1, 132]"
      ]
    },
    {
      "cell_type": "code",
      "execution_count": null,
      "metadata": {
        "id": "nB5GHBH9TZt1"
      },
      "outputs": [],
      "source": [
        "# generate a new feature called is_airport_trip if either PULocationID or DOLocationID is in [138, 1, 132]\n",
        "data['is_airport_trip'] = np.where((data['PULocationID'].isin(airport_locationIDs)) | (data['DOLocationID'].isin(airport_locationIDs)), 1, 0)"
      ]
    },
    {
      "cell_type": "code",
      "execution_count": null,
      "metadata": {
        "id": "fjnNhb4NPyoS"
      },
      "outputs": [],
      "source": [
        "data.head(10)"
      ]
    },
    {
      "cell_type": "markdown",
      "metadata": {
        "id": "xGKENs0wmYlw"
      },
      "source": [
        "### Encode hvfhs_license_num"
      ]
    },
    {
      "cell_type": "code",
      "execution_count": null,
      "metadata": {
        "id": "GoomEj8FZsQB"
      },
      "outputs": [],
      "source": [
        "data = pd.get_dummies(data, columns=['hvfhs_license_num'])"
      ]
    },
    {
      "cell_type": "code",
      "execution_count": null,
      "metadata": {
        "id": "WXnw3j2JeleG"
      },
      "outputs": [],
      "source": [
        "new_column_names = {\n",
        "    'hvfhs_license_num_HV0003': 'uber',\n",
        "    'hvfhs_license_num_HV0005': 'lyft'\n",
        "}\n",
        "\n",
        "data.rename(columns=new_column_names, inplace=True)"
      ]
    },
    {
      "cell_type": "code",
      "execution_count": null,
      "metadata": {
        "id": "FTteqz4JeVnT"
      },
      "outputs": [],
      "source": [
        "data.head(10)"
      ]
    },
    {
      "cell_type": "code",
      "execution_count": null,
      "metadata": {
        "id": "pGa1P304myI7"
      },
      "outputs": [],
      "source": [
        "corr_data = data[['trip_miles', 'trip_time', 'total_fare', 'is_airport_trip', 'uber', 'lyft']]"
      ]
    },
    {
      "cell_type": "code",
      "execution_count": null,
      "metadata": {
        "id": "YjGl8XVqm8lv"
      },
      "outputs": [],
      "source": [
        "## generating correlation heatmap\n",
        "plt.figure(figsize = (10, 10))\n",
        "sns.heatmap(corr_data.corr(), annot = True)"
      ]
    },
    {
      "cell_type": "markdown",
      "metadata": {
        "id": "IA165w_ohfru"
      },
      "source": [
        "### Missing Values"
      ]
    },
    {
      "cell_type": "code",
      "execution_count": null,
      "metadata": {
        "id": "nfKr-C8hhhyS"
      },
      "outputs": [],
      "source": [
        "missing_values = data_encoded.isnull().sum()\n",
        "missing_values"
      ]
    },
    {
      "cell_type": "code",
      "execution_count": null,
      "metadata": {
        "id": "JT1cnPuUL-p5"
      },
      "outputs": [],
      "source": [
        "# mean and standard deviation of fare amount\n",
        "mean_fare = data['fare_amount'].mean()\n",
        "std_fare = data['fare_amount'].std()\n",
        "\n",
        "#select only the fare amount where the mean fare is within 3 standard deviation from the mean\n",
        "fare_within_3std = data[(data['fare_amount'] >= mean_fare - 3 * std_fare) & (data['fare_amount'] <= mean_fare + 3 * std_fare) & (data['fare_amount'] > 0 )]\n",
        "\n",
        "fare_within_3std"
      ]
    },
    {
      "cell_type": "code",
      "execution_count": null,
      "metadata": {
        "id": "L5xwB8c8N_Y2"
      },
      "outputs": [],
      "source": [
        "# plotting the fare amount for fare within 3 standard deviation on histogram\n",
        "plt.hist(fare_within_3std['fare_amount'], bins=range(0, int(fare_within_3std['fare_amount'].max()) + 5, 5), edgecolor='black')\n",
        "plt.title('Histogram of Fare Amount')\n",
        "plt.xlabel('Fare Amount')\n",
        "plt.ylabel('Frequency')\n",
        "plt.show()"
      ]
    },
    {
      "cell_type": "code",
      "execution_count": null,
      "metadata": {
        "id": "vh3APG8TO0lW"
      },
      "outputs": [],
      "source": [
        "data = fare_within_3std"
      ]
    },
    {
      "cell_type": "markdown",
      "metadata": {
        "id": "a5yvqKyGO5-9"
      },
      "source": [
        "### Passenger Count"
      ]
    },
    {
      "cell_type": "code",
      "execution_count": null,
      "metadata": {
        "id": "bLAN7AmtO3XD"
      },
      "outputs": [],
      "source": [
        "passenger_count_counts = data['passenger_count'].value_counts()\n",
        "#getting the number of passengers in the car\n",
        "print(passenger_count_counts)"
      ]
    },
    {
      "cell_type": "code",
      "execution_count": null,
      "metadata": {
        "id": "cZB7hxTiP6O8"
      },
      "outputs": [],
      "source": [
        "# getting a barplot for the same\n",
        "sns.barplot(x=passenger_count_counts.index, y=passenger_count_counts.values, palette='viridis')\n",
        "plt.title('Passenger Count Distribution')\n",
        "plt.xlabel('Passenger Count')\n",
        "plt.ylabel('Count')\n",
        "\n",
        "plt.show()"
      ]
    },
    {
      "cell_type": "code",
      "execution_count": null,
      "metadata": {
        "id": "NgBO274_Q6hL"
      },
      "outputs": [],
      "source": [
        "#non-outlier counts\n",
        "non_outliers_counts = passenger_count_counts.values[:len(passenger_count_counts) - 2]\n",
        "print(non_outliers_counts)\n",
        "non_outliers_sum = non_outliers_counts.sum()\n",
        "print(f\"Sum: {non_outliers_sum}\")\n",
        "prob = [x/non_outliers_sum for x in non_outliers_counts]\n",
        "prob"
      ]
    },
    {
      "cell_type": "code",
      "execution_count": null,
      "metadata": {
        "id": "-6CWbdNNSlNU"
      },
      "outputs": [],
      "source": [
        "# handling outliers by distributing random values for passenger counts\n",
        "passenger_df = data\n",
        "passenger_df['passenger_count'] = np.where(\n",
        " (passenger_df['passenger_count'] == 0) | (data['passenger_count']\n",
        "> 6),\n",
        " np.random.choice([1, 2, 3, 4, 5, 6], size=len(passenger_df),\n",
        "p=prob),\n",
        " passenger_df['passenger_count']\n",
        ")\n",
        "\n",
        "passenger_count_counts = data['passenger_count'].value_counts()\n",
        "print(passenger_count_counts)\n",
        "# plotting the passenger counts again\n",
        "sns.barplot(x=passenger_count_counts.index, y=passenger_count_counts.values, palette='viridis')\n",
        "plt.title('Passenger Count Distribution')\n",
        "plt.xlabel('Passenger Count')\n",
        "plt.ylabel('Count')\n",
        "\n",
        "plt.show()"
      ]
    },
    {
      "cell_type": "code",
      "execution_count": null,
      "metadata": {
        "id": "rIx1IsIr1WK-"
      },
      "outputs": [],
      "source": []
    },
    {
      "cell_type": "code",
      "execution_count": null,
      "metadata": {
        "id": "nAyvqhiMTz8e"
      },
      "outputs": [],
      "source": [
        "data = passenger_df"
      ]
    },
    {
      "cell_type": "code",
      "execution_count": null,
      "metadata": {
        "id": "L5S4VMJ1Sa_R"
      },
      "outputs": [],
      "source": [
        "# getting all the descriptive statistics\n",
        "data.describe()"
      ]
    },
    {
      "cell_type": "markdown",
      "metadata": {
        "id": "6LVwUcSEHqau"
      },
      "source": [
        "### More Graphs"
      ]
    },
    {
      "cell_type": "code",
      "execution_count": null,
      "metadata": {
        "id": "Yp8Fk0-3HtAi"
      },
      "outputs": [],
      "source": [
        "sns.pairplot(data[['pickup_longitude', 'pickup_latitude', 'dropoff_longitude', 'dropoff_latitude', 'passenger_count']],\n",
        "             height=1.5, plot_kws={'alpha':.2});"
      ]
    },
    {
      "cell_type": "code",
      "execution_count": null,
      "metadata": {
        "id": "jGse-EJoxpG5"
      },
      "outputs": [],
      "source": [
        "plt.figure(figsize = (20, 20))\n",
        "# plotting a heatmap to observe the correlatiopn between the features in the graph\n",
        "sns.heatmap(data.corr(), annot = True)"
      ]
    },
    {
      "cell_type": "markdown",
      "metadata": {
        "id": "Vh09XEuZT-0b"
      },
      "source": [
        "## Model Training"
      ]
    },
    {
      "cell_type": "code",
      "execution_count": null,
      "metadata": {
        "id": "93aVTWleChqK"
      },
      "outputs": [],
      "source": [
        "data.head()"
      ]
    },
    {
      "cell_type": "code",
      "execution_count": null,
      "metadata": {
        "id": "KM25B50VCvsQ"
      },
      "outputs": [],
      "source": [
        "# choosing certain variables based on the features correlation to the target variable and their effectiveness in predicting it\n",
        "X = data[['pickup_longitude', 'pickup_latitude', 'dropoff_longitude', 'dropoff_latitude', 'passenger_count']]\n",
        "y = data['fare_amount']"
      ]
    },
    {
      "cell_type": "markdown",
      "metadata": {
        "id": "TUHjaK0FsOxp"
      },
      "source": [
        "### Training"
      ]
    },
    {
      "cell_type": "code",
      "execution_count": null,
      "metadata": {
        "id": "GZH5DkCgRIY5"
      },
      "outputs": [],
      "source": [
        "from sklearn import svm\n",
        "from sklearn.linear_model import LinearRegression\n",
        "from sklearn.neighbors import KNeighborsRegressor\n",
        "from sklearn.model_selection import cross_val_score, train_test_split\n",
        "from sklearn import metrics\n",
        "from sklearn.metrics import mean_absolute_error, mean_squared_error\n",
        "from sklearn.preprocessing import StandardScaler"
      ]
    },
    {
      "cell_type": "markdown",
      "metadata": {
        "id": "87jknLWP6HIV"
      },
      "source": [
        "### Split & Scale Data"
      ]
    },
    {
      "cell_type": "code",
      "execution_count": null,
      "metadata": {
        "id": "SNfqe6epuNz2"
      },
      "outputs": [],
      "source": [
        "# Splitting our dataset with test size being 25% of the entire dataset , and using stratified random splitting\n",
        "(X_train, X_test, y_train, y_test) = train_test_split( X, y, test_size = 0.25,random_state = 42)"
      ]
    },
    {
      "cell_type": "code",
      "execution_count": null,
      "metadata": {
        "id": "nTde1f83wTR8"
      },
      "outputs": [],
      "source": [
        "# scaling\n",
        "scaler = StandardScaler()\n",
        "X_train = scaler.fit_transform(X_train)\n",
        "X_test = scaler.transform(X_test)"
      ]
    },
    {
      "cell_type": "markdown",
      "metadata": {
        "id": "t5x-mTaVmB0g"
      },
      "source": [
        "### Baseline"
      ]
    },
    {
      "cell_type": "code",
      "execution_count": null,
      "metadata": {
        "id": "72lnCnDrmDck"
      },
      "outputs": [],
      "source": [
        "# mean as baseline model\n",
        "baseline = y.mean()\n",
        "y_pred = [baseline] * len(y_train)\n",
        "\n",
        "# mean absolute error\n",
        "mean_abs_err = mean_absolute_error(y_train, y_pred)\n",
        "mean_abs_err"
      ]
    },
    {
      "cell_type": "code",
      "execution_count": null,
      "metadata": {
        "id": "2Ux57E_sFwte"
      },
      "outputs": [],
      "source": [
        "# mean squared error\n",
        "mean_sq_err = mean_squared_error(y_train, y_pred)\n",
        "mean_sq_err"
      ]
    },
    {
      "cell_type": "markdown",
      "metadata": {
        "id": "2DMTmyx98MpW"
      },
      "source": [
        "### Linear Regression"
      ]
    },
    {
      "cell_type": "code",
      "execution_count": null,
      "metadata": {
        "id": "_X-tVOz9xl98"
      },
      "outputs": [],
      "source": [
        "lr    = LinearRegression()\n",
        "fit   = lr.fit(X_train, y_train)"
      ]
    },
    {
      "cell_type": "markdown",
      "metadata": {
        "id": "yedcYYdP8XdC"
      },
      "source": [
        "### KNN Regressor"
      ]
    },
    {
      "cell_type": "code",
      "execution_count": null,
      "metadata": {
        "id": "gMLcTd_P0K-J"
      },
      "outputs": [],
      "source": [
        "knn   = KNeighborsRegressor(n_neighbors=5)\n",
        "fit   = knn.fit(X_train, y_train)"
      ]
    },
    {
      "cell_type": "markdown",
      "metadata": {
        "id": "L6AMrgGa7gEt"
      },
      "source": [
        "##  Evaluation"
      ]
    },
    {
      "cell_type": "code",
      "execution_count": null,
      "metadata": {
        "id": "a8bPZ_bvPUaU"
      },
      "outputs": [],
      "source": [
        "# dictionary of the models that we chose for evaluation\n",
        "models = {'lr': lr,\n",
        "          'knn' : knn}\n",
        "\n",
        "# getting the name and the model object from the dicitionary\n",
        "for name, model in models.items():\n",
        "    # training the model\n",
        "    fit = model.fit(X_train, y_train)\n",
        "    scores = cross_val_score(fit, X_train, y_train, cv=5, scoring='neg_mean_squared_error')\n",
        "\n",
        "    # Calculating the mean squared error, it was giving a negative score, so to just see the absolute error\n",
        "    mean_mse = -scores.mean()\n",
        "\n",
        "    print(\"Mean Squared Error (Cross-Validation):\", mean_mse)"
      ]
    },
    {
      "cell_type": "code",
      "execution_count": null,
      "metadata": {
        "id": "QtX-vLquPUKv"
      },
      "outputs": [],
      "source": [
        "# records the time to split the data set\n",
        "%%timeit -r1 -n1\n",
        "(X_train, X_test, y_train, y_test) = train_test_split( X, y, test_size = 0.25, random_state = 42)"
      ]
    },
    {
      "cell_type": "code",
      "execution_count": null,
      "metadata": {
        "id": "_lud-AcCRrEE"
      },
      "outputs": [],
      "source": [
        "# records the time to create lr model, fit the data and prediction\n",
        "%%timeit -r1\n",
        "\n",
        "lr = LinearRegression()\n",
        "fit   = lr.fit(X_train, y_train)\n",
        "preds = fit.predict(X_test)\n",
        "\n",
        "metrics.mean_squared_error(y_test, preds)"
      ]
    },
    {
      "cell_type": "code",
      "execution_count": null,
      "metadata": {
        "id": "lE6rBbJ3SR92"
      },
      "outputs": [],
      "source": [
        "# records the time to create knn model, fit the data and prediction\n",
        "%%timeit -r1\n",
        "\n",
        "knn = KNeighborsRegressor()\n",
        "fit   = knn.fit(X_train, y_train)\n",
        "preds = fit.predict(X_test)\n",
        "\n",
        "metrics.mean_squared_error(y_test, preds)"
      ]
    },
    {
      "cell_type": "code",
      "execution_count": null,
      "metadata": {
        "id": "dtNHlAoQSl7P"
      },
      "outputs": [],
      "source": [
        "# fitting\n",
        "# Records time taken for fitting lr\n",
        "lr = LinearRegression()\n",
        "%timeit -r1 fit   = lr.fit(X_train, y_train)\n",
        "\n",
        "# Records time taken for fitting knn\n",
        "knn = KNeighborsRegressor()\n",
        "%timeit -r1 fit   = knn.fit(X_train, y_train)"
      ]
    },
    {
      "cell_type": "code",
      "execution_count": null,
      "metadata": {
        "id": "qcpzZmzdS3Zm"
      },
      "outputs": [],
      "source": [
        "# predicting\n",
        "# Records time taken for Prediction lr\n",
        "lr = LinearRegression()\n",
        "fit   = lr.fit(X_train, y_train)\n",
        "%timeit -r1 preds = fit.predict(X_test)\n",
        "\n",
        " # Records time taken for Prediction knn\n",
        "knn = KNeighborsRegressor()\n",
        "fit   = knn.fit(X_train, y_train)\n",
        "%timeit -r1 preds = fit.predict(X_test)"
      ]
    },
    {
      "cell_type": "code",
      "execution_count": null,
      "metadata": {
        "id": "vw-MAj6-Tdug"
      },
      "outputs": [],
      "source": [
        "!pip install memory_profiler\n",
        "%load_ext memory_profiler\n",
        "\n",
        "# set working directory\n",
        "# %cd /content/drive/MyDrive/Colab Notebooks"
      ]
    },
    {
      "cell_type": "code",
      "execution_count": null,
      "metadata": {
        "id": "63vTSuhpX1My"
      },
      "outputs": [],
      "source": [
        "# memory test for lr\n",
        "%%memit\n",
        "lr = LinearRegression()\n",
        "fit   = lr.fit(X_train, y_train)\n",
        "preds = fit.predict(X_test)"
      ]
    },
    {
      "cell_type": "code",
      "execution_count": null,
      "metadata": {
        "id": "5CF_DLTaYA-O"
      },
      "outputs": [],
      "source": [
        "# memory test for knn\n",
        "%%memit\n",
        "knn = KNeighborsRegressor()\n",
        "fit   = knn.fit(X_train, y_train)\n",
        "preds = fit.predict(X_test)"
      ]
    },
    {
      "cell_type": "code",
      "execution_count": null,
      "metadata": {
        "id": "W3yDJ41tYRTa"
      },
      "outputs": [],
      "source": []
    },
    {
      "cell_type": "markdown",
      "metadata": {
        "id": "fwFX4phgLFZV"
      },
      "source": [
        "# Milestone 2\n",
        "\n",
        "Additional Regressor"
      ]
    },
    {
      "cell_type": "code",
      "execution_count": null,
      "metadata": {
        "id": "dFNaNe4xu8v3"
      },
      "outputs": [],
      "source": [
        "from sklearn.linear_model import Lasso, ElasticNet\n",
        "\n",
        "from sklearn import metrics"
      ]
    },
    {
      "cell_type": "markdown",
      "metadata": {
        "id": "Um8QPgnbuBuS"
      },
      "source": [
        "### Lasso Regressor"
      ]
    },
    {
      "cell_type": "code",
      "execution_count": null,
      "metadata": {
        "id": "CGcFV1R8t_RS"
      },
      "outputs": [],
      "source": [
        "### Lasso Regression\n",
        "\n",
        "# setting the alpha or the penalty term to 0.1\n",
        "lasso = Lasso(alpha = 0.1)\n",
        "# Fitting the model using cross-validation\n",
        "scores = cross_val_score(lasso, X_train, y_train, cv=5, scoring='neg_mean_squared_error')\n",
        "\n",
        "# Calculating the mean squared error, it was giving a negative score, so to just see the absolute error\n",
        "mean_mse = -scores.mean()\n",
        "\n",
        "print(\"Mean Squared Error (Cross-Validation):\", mean_mse)"
      ]
    },
    {
      "cell_type": "markdown",
      "metadata": {
        "id": "eWJu60dKy99j"
      },
      "source": [
        "### Elastic Net"
      ]
    },
    {
      "cell_type": "code",
      "execution_count": null,
      "metadata": {
        "id": "S_S1pHkixi5u"
      },
      "outputs": [],
      "source": [
        "en = ElasticNet(alpha = 0.01, random_state=0)\n",
        "#making predictions\n",
        "scores = cross_val_score(en, X_train, y_train, cv=5, scoring='neg_mean_squared_error')\n",
        "# getting the l2 loss\n",
        "mean_mse = -scores.mean()\n",
        "print(\"Mean Squared Error (Cross-Validation):\", mean_mse)\n"
      ]
    },
    {
      "cell_type": "code",
      "execution_count": null,
      "metadata": {
        "id": "g50I3SCH6BQ2"
      },
      "outputs": [],
      "source": [
        "knn = KNeighborsRegressor(n_neighbors=5, weights='uniform')\n",
        "# Fitting the model using cross-validation\n",
        "scores = cross_val_score(knn, X_train, y_train, cv=5, scoring='neg_mean_squared_error')\n",
        "# Calculating the mean squared error\n",
        "mean_mse = -scores.mean()\n",
        "print(\"Mean Squared Error (Cross-Validation):\", mean_mse)\n",
        "\n"
      ]
    },
    {
      "cell_type": "markdown",
      "metadata": {
        "id": "HPVBdNeMaZws"
      },
      "source": [
        "##  Evaluation"
      ]
    },
    {
      "cell_type": "markdown",
      "metadata": {
        "id": "kCkJC4N9a7gq"
      },
      "source": [
        "Time Taken"
      ]
    },
    {
      "cell_type": "code",
      "execution_count": null,
      "metadata": {
        "id": "or5_UP50agYg"
      },
      "outputs": [],
      "source": [
        "### Lasso Regression\n",
        "%%timeit -r1\n",
        "lasso = Lasso(alpha = 0.1)\n",
        "scores = cross_val_score(lasso, X_train, y_train, cv=5, scoring='neg_mean_squared_error')\n",
        "# Calculating the mean squared error, it was giving a negative score, so to just see the absolute error\n",
        "mean_mse = -scores.mean()"
      ]
    },
    {
      "cell_type": "code",
      "execution_count": null,
      "metadata": {
        "id": "_KC9kbN7bjln"
      },
      "outputs": [],
      "source": [
        "### Elastic Net\n",
        "%%timeit -r1\n",
        "en = ElasticNet(alpha = 0.01, random_state=0)\n",
        "scores = cross_val_score(en, X_train, y_train, cv=5, scoring='neg_mean_squared_error')\n",
        "mean_mse = -scores.mean()\n"
      ]
    },
    {
      "cell_type": "code",
      "execution_count": null,
      "metadata": {
        "id": "rB_xRyAVFRnQ"
      },
      "outputs": [],
      "source": [
        "### KNN\n",
        "%%timeit -r1\n",
        "knn = KNeighborsRegressor(n_neighbors=5, weights='uniform')\n",
        "scores = cross_val_score(knn, X_train, y_train, cv=5, scoring='neg_mean_squared_error')\n",
        "mean_mse = -scores.mean()\n",
        "\n"
      ]
    },
    {
      "cell_type": "markdown",
      "metadata": {
        "id": "_v4nvNGfb786"
      },
      "source": [
        "Time Taken for Fitting"
      ]
    },
    {
      "cell_type": "code",
      "execution_count": null,
      "metadata": {
        "id": "YIG9_NqJbQe6"
      },
      "outputs": [],
      "source": [
        "# lasso = Lasso(alpha = 0.1)\n",
        "# %timeit -r1 lasso_fit = lasso.fit(X_train, y_train)\n",
        "\n",
        "# en = ElasticNet(alpha = 0.01, random_state=0)\n",
        "# %timeit -r1 en_fit = en.fit(X_train, y_train)\n",
        "\n"
      ]
    },
    {
      "cell_type": "markdown",
      "metadata": {
        "id": "Hd2QIKQ2cIyY"
      },
      "source": [
        "Time Taken for Prediction"
      ]
    },
    {
      "cell_type": "code",
      "execution_count": null,
      "metadata": {
        "id": "vZV45wnQbXtX"
      },
      "outputs": [],
      "source": [
        "# lasso = Lasso(alpha = 0.1)\n",
        "# lasso_fit = lasso.fit(X_train, y_train)\n",
        "# %timeit -r1 preds = lasso_fit.predict(X_test)\n",
        "\n",
        "# en = ElasticNet(alpha = 0.01, random_state=0)\n",
        "# en_fit = en.fit(X_train, y_train)\n",
        "# %timeit -r1 preds = en_fit.predict(X_test)"
      ]
    },
    {
      "cell_type": "markdown",
      "metadata": {
        "id": "Z5631hpPia88"
      },
      "source": [
        "Memory Usage"
      ]
    },
    {
      "cell_type": "code",
      "execution_count": null,
      "metadata": {
        "id": "Y6z2JchCic1B"
      },
      "outputs": [],
      "source": [
        "### Lasso Regression\n",
        "%%memit\n",
        "lasso = Lasso(alpha = 0.1)\n",
        "scores = cross_val_score(lasso, X_train, y_train, cv=5, scoring='neg_mean_squared_error')\n",
        "mean_mse = -scores.mean()"
      ]
    },
    {
      "cell_type": "code",
      "execution_count": null,
      "metadata": {
        "id": "GfqFygagilJl"
      },
      "outputs": [],
      "source": [
        "### Elastic Net\n",
        "%%memit\n",
        "en = ElasticNet(alpha = 0.01, random_state=0)\n",
        "scores = cross_val_score(en, X_train, y_train, cv=5, scoring='neg_mean_squared_error')\n",
        "mean_mse = -scores.mean()"
      ]
    },
    {
      "cell_type": "code",
      "execution_count": null,
      "metadata": {
        "id": "mylAxklJF1gE"
      },
      "outputs": [],
      "source": [
        "### Elastic Net\n",
        "%%memit\n",
        "knn = KNeighborsRegressor(n_neighbors=5, weights='uniform')\n",
        "scores = cross_val_score(knn, X_train, y_train, cv=5, scoring='neg_mean_squared_error')\n",
        "mean_mse = -scores.mean()"
      ]
    },
    {
      "cell_type": "markdown",
      "metadata": {
        "id": "RtSAUVQ6zenk"
      },
      "source": [
        "# Milestone 3\n",
        "\n",
        "Feature Engineering"
      ]
    },
    {
      "cell_type": "markdown",
      "metadata": {
        "id": "x7ixjtvh3Wic"
      },
      "source": [
        "### Distance"
      ]
    },
    {
      "cell_type": "code",
      "execution_count": null,
      "metadata": {
        "id": "LzoMRxWEzjDQ"
      },
      "outputs": [],
      "source": [
        "data.head()"
      ]
    },
    {
      "cell_type": "code",
      "execution_count": null,
      "metadata": {
        "id": "S-jqTtj50PYr"
      },
      "outputs": [],
      "source": [
        "!pip install haversine\n",
        "import haversine as hs\n",
        "from haversine import Unit"
      ]
    },
    {
      "cell_type": "code",
      "execution_count": null,
      "metadata": {
        "id": "VkH9hGEU1wVK"
      },
      "outputs": [],
      "source": [
        "def calculate_distance(row):\n",
        "    loc1 = (row['pickup_latitude'], row['pickup_longitude'])\n",
        "    loc2 = (row['dropoff_latitude'], row['dropoff_longitude'])\n",
        "    return hs.haversine(loc1, loc2, unit=Unit.KILOMETERS)\n",
        "\n",
        "# Apply the function to create a new column 'distance'\n",
        "data['distance'] = data.apply(calculate_distance, axis=1)"
      ]
    },
    {
      "cell_type": "code",
      "execution_count": null,
      "metadata": {
        "id": "WxNEjFNm13V0"
      },
      "outputs": [],
      "source": [
        "data.head()"
      ]
    },
    {
      "cell_type": "code",
      "execution_count": null,
      "metadata": {
        "id": "uJFFNJNs1_aC"
      },
      "outputs": [],
      "source": [
        "data['distance'] = data['distance'].replace(0, np.nan)\n",
        "count_nan = data['distance'].isna().sum()\n",
        "print(f\"Number of Nan: {count_nan}\")"
      ]
    },
    {
      "cell_type": "code",
      "execution_count": null,
      "metadata": {
        "id": "-feDAbAI2bl6"
      },
      "outputs": [],
      "source": [
        "# drop rows with nan\n",
        "data = data.dropna(subset=['distance'])\n",
        "data.head(10)"
      ]
    },
    {
      "cell_type": "markdown",
      "metadata": {
        "id": "XVW3m7fnbjfp"
      },
      "source": [
        "### Day & Time"
      ]
    },
    {
      "cell_type": "code",
      "execution_count": null,
      "metadata": {
        "id": "Kjvudujc3_pS"
      },
      "outputs": [],
      "source": [
        "### Day & Time\n",
        "# checking datetime type\n",
        "data.dtypes"
      ]
    },
    {
      "cell_type": "code",
      "execution_count": null,
      "metadata": {
        "id": "rikEcxdtb24F"
      },
      "outputs": [],
      "source": [
        "from datetime import datetime\n",
        "import pytz"
      ]
    },
    {
      "cell_type": "code",
      "execution_count": null,
      "metadata": {
        "id": "N4icKiQ-b66J"
      },
      "outputs": [],
      "source": [
        "temp = data"
      ]
    },
    {
      "cell_type": "code",
      "execution_count": null,
      "metadata": {
        "id": "P70eBWOTcCEh"
      },
      "outputs": [],
      "source": [
        "def convert_date_time(input):\n",
        "  given_datetime = datetime.strptime(input['pickup_datetime'], '%Y-%m-%d %H:%M:%S %Z').replace(tzinfo=pytz.utc)\n",
        "\n",
        "  # Convert the timezone to New York\n",
        "  new_york_timezone = pytz.timezone('America/New_York')\n",
        "  given_datetime_new_york = given_datetime.astimezone(new_york_timezone)\n",
        "\n",
        "  # Get the day of the week\n",
        "  day_of_week = given_datetime_new_york.strftime('%A')\n",
        "\n",
        "  # Get the time in number format (17.5 is 5:30 pm)\n",
        "  time_in_number_format = given_datetime_new_york.hour + given_datetime_new_york.minute / 60\n",
        "\n",
        "  return day_of_week, time_in_number_format\n",
        "  # print(f\"Day of the week: {day_of_week}\")\n",
        "  # print(f\"Time in number format: {time_in_number_format}\")\n"
      ]
    },
    {
      "cell_type": "code",
      "execution_count": null,
      "metadata": {
        "id": "gQzRNe4DcHEV"
      },
      "outputs": [],
      "source": [
        "temp[['day_of_week', 'time']] = temp.apply(convert_date_time, axis=1, result_type='expand')"
      ]
    },
    {
      "cell_type": "code",
      "execution_count": null,
      "metadata": {
        "id": "v6kV5SwrcHti"
      },
      "outputs": [],
      "source": [
        "# from sklearn.preprocessing import LabelEncoder\n",
        "# le = LabelEncoder()\n",
        "# temp['day_of_week'] = le.fit_transform(temp['day_of_week'])"
      ]
    },
    {
      "cell_type": "code",
      "execution_count": null,
      "metadata": {
        "id": "12g9ZY8ecMQk"
      },
      "outputs": [],
      "source": [
        "plt.figure(figsize = (10, 10))\n",
        "sns.heatmap(temp.corr(), annot = True)"
      ]
    },
    {
      "cell_type": "code",
      "execution_count": null,
      "metadata": {
        "id": "H33a_eOGdDY1"
      },
      "outputs": [],
      "source": [
        "temp.head()"
      ]
    },
    {
      "cell_type": "code",
      "execution_count": null,
      "metadata": {
        "id": "LPAIArjEdqf7"
      },
      "outputs": [],
      "source": [
        "def is_weekday(day):\n",
        "  return not (day == 'Saturday' or day == 'Sunday')\n",
        "\n",
        "def is_rush_hour(time):\n",
        "  if 8 <= time <= 9 or 3 <= time <= 7:\n",
        "    return 1\n",
        "  else:\n",
        "    return 0\n",
        "\n"
      ]
    },
    {
      "cell_type": "code",
      "execution_count": null,
      "metadata": {
        "id": "j9Qya5wWeh2_"
      },
      "outputs": [],
      "source": [
        "temp['is_weekday'] = temp['day_of_week'].apply(is_weekday)"
      ]
    },
    {
      "cell_type": "code",
      "execution_count": null,
      "metadata": {
        "id": "HIFC9yt7eodz"
      },
      "outputs": [],
      "source": [
        "temp.head()"
      ]
    },
    {
      "cell_type": "code",
      "execution_count": null,
      "metadata": {
        "id": "tFIUFwcWfZZW"
      },
      "outputs": [],
      "source": [
        "temp['is_rushhour'] = temp['time'].apply(is_rush_hour)"
      ]
    },
    {
      "cell_type": "code",
      "execution_count": null,
      "metadata": {
        "id": "AEBU0mB3fgSx"
      },
      "outputs": [],
      "source": [
        "temp.head()"
      ]
    },
    {
      "cell_type": "code",
      "execution_count": null,
      "metadata": {
        "id": "FCijXS3rgnDZ"
      },
      "outputs": [],
      "source": [
        "plt.figure(figsize = (10, 10))\n",
        "sns.heatmap(temp.corr(), annot = True)"
      ]
    },
    {
      "cell_type": "markdown",
      "metadata": {
        "id": "0NrlrXeTJBz6"
      },
      "source": [
        "### Training"
      ]
    },
    {
      "cell_type": "code",
      "execution_count": null,
      "metadata": {
        "id": "eyBGsjZqCgQ8"
      },
      "outputs": [],
      "source": [
        "X = temp[['pickup_longitude', 'pickup_latitude', 'dropoff_longitude', 'dropoff_latitude','passenger_count','distance','is_weekday','is_rushhour']]\n",
        "y = temp['fare_amount']"
      ]
    },
    {
      "cell_type": "code",
      "execution_count": null,
      "metadata": {
        "id": "mN6i9VLUDYt6"
      },
      "outputs": [],
      "source": [
        "(X_train, X_test, y_train, y_test) = train_test_split( X, y, test_size = 0.25,random_state = 42)"
      ]
    },
    {
      "cell_type": "code",
      "execution_count": null,
      "metadata": {
        "id": "RvTQrKTgJFOr"
      },
      "outputs": [],
      "source": [
        "X_train = scaler.fit_transform(X_train)\n",
        "X_test = scaler.transform(X_test)"
      ]
    },
    {
      "cell_type": "code",
      "execution_count": null,
      "metadata": {
        "id": "DL5LEiK26586"
      },
      "outputs": [],
      "source": [
        "# creating validation sets\n",
        "X_train_orig, X_val_orig, y_train_orig, y_val_orig = train_test_split(X_train, y_train, test_size=0.2, random_state=42)\n",
        "\n",
        "\n",
        "alpha_values = [0.0001,0.01, 0.1, 1, 10]\n",
        "\n",
        "# to be used for our df\n",
        "results = []\n",
        "\n",
        "\n",
        "for alpha in alpha_values:\n",
        "  en = ElasticNet(alpha=alpha, l1_ratio=0.5, random_state=0)\n",
        "  en.fit(X_train_orig, y_train_orig)\n",
        "  # us making the predictions on the validation set\n",
        "  preds_val = en.predict(X_val_orig)\n",
        "  mse_val = metrics.mean_squared_error(y_val_orig, preds_val)\n",
        "  # Store results in the list\n",
        "  results.append({'Alpha': alpha,'Mean Squared Error (Validation)': mse_val})\n",
        "\n",
        "# creating the table as a dataframe for our analysis\n",
        "results_df = pd.DataFrame(results)\n",
        "results_df\n",
        "\n",
        "\n",
        "\n"
      ]
    },
    {
      "cell_type": "code",
      "execution_count": null,
      "metadata": {
        "id": "QNPEvIsd957_"
      },
      "outputs": [],
      "source": [
        "results = []\n",
        "\n",
        "\n",
        "for alpha in alpha_values:\n",
        "\n",
        "    lasso = Lasso(alpha=alpha, random_state=0)\n",
        "    lasso.fit(X_train_orig, y_train_orig)\n",
        "    # Make predictions on the validation set\n",
        "    preds_val = lasso.predict(X_val_orig)\n",
        "    mse_val = metrics.mean_squared_error(y_val_orig, preds_val)\n",
        "\n",
        "    # Store results in the list\n",
        "    results.append({'Alpha': alpha, 'Mean Squared Error (Validation)': mse_val})\n",
        "\n",
        "results_df = pd.DataFrame(results)\n",
        "results_df"
      ]
    },
    {
      "cell_type": "code",
      "execution_count": null,
      "metadata": {
        "id": "Hkg638xw-WuO"
      },
      "outputs": [],
      "source": [
        "neighbor_values = [3, 5, 7, 10, 15]\n",
        "\n",
        "results = []\n",
        "\n",
        "\n",
        "for neighbors in neighbor_values:\n",
        "    knn = KNeighborsRegressor(n_neighbors=neighbors)\n",
        "    knn.fit(X_train_orig, y_train_orig)\n",
        "    # again the validation set\n",
        "    preds_val = knn.predict(X_val_orig)\n",
        "    mse_val = metrics.mean_squared_error(y_val_orig, preds_val)\n",
        "    results.append({'Neighbors': neighbors, 'Mean Squared Error (Validation)': mse_val})\n",
        "\n",
        "# creating the table as a dataframe for our analysis\n",
        "results_df = pd.DataFrame(results)\n",
        "results_df"
      ]
    },
    {
      "cell_type": "code",
      "execution_count": null,
      "metadata": {
        "id": "3MmLyBJy-6lS"
      },
      "outputs": [],
      "source": [
        "en = ElasticNet(alpha=0.0001, l1_ratio=0.50, random_state=0)\n",
        "lasso = Lasso(alpha=0.0001)\n",
        "knn = KNeighborsRegressor(n_neighbors=15)\n",
        "lr    = LinearRegression()\n",
        "# fitting the models\n",
        "en = en.fit(X_train, y_train)\n",
        "lasso = lasso.fit(X_train, y_train)\n",
        "knn = knn.fit(X_train, y_train)\n",
        "lr = lr.fit(X_train, y_train)\n",
        "\n",
        "# getting the predictiosn\n",
        "en_preds = en.predict(X_test)\n",
        "lasso_preds = lasso.predict(X_test)\n",
        "knn_preds = knn.predict(X_test)\n",
        "lr_preds = lr.predict(X_test)\n",
        "\n",
        "# getting the mean squared error\n",
        "en_mse = mean_squared_error(y_test, en_preds)\n",
        "lasso_mse = mean_squared_error(y_test, lasso_preds)\n",
        "knn_mse = mean_squared_error(y_test, knn_preds)\n",
        "lr_mse = mean_squared_error(y_test, lr_preds)\n",
        "\n",
        "print(\"Mean Squared Error (ElasticNet):\", en_mse)\n",
        "print(\"Mean Squared Error (Lasso):\", lasso_mse)\n",
        "print(\"Mean Squared Error (KNeighborsRegressor):\", knn_mse)\n",
        "print(\"Mean Squared Error (Linear Regressir):\", lr_mse)"
      ]
    },
    {
      "cell_type": "markdown",
      "metadata": {
        "id": "dvJid0JIO_Hr"
      },
      "source": [
        "### Performance"
      ]
    },
    {
      "cell_type": "markdown",
      "metadata": {
        "id": "6RvkT4bhOqdE"
      },
      "source": [
        "#### Total Time"
      ]
    },
    {
      "cell_type": "code",
      "execution_count": null,
      "metadata": {
        "id": "lBrWdpi3AIH_"
      },
      "outputs": [],
      "source": [
        "%%timeit -r1\n",
        "lasso = Lasso(alpha = 0.01)\n",
        "fit = lasso.fit(X_train, y_train)\n",
        "preds = fit.predict(X_test)\n",
        "metrics.mean_squared_error(y_test, preds)"
      ]
    },
    {
      "cell_type": "code",
      "execution_count": null,
      "metadata": {
        "id": "4q9OB-oZAU24"
      },
      "outputs": [],
      "source": [
        "%%timeit -r1\n",
        "en = ElasticNet(alpha=0.00001, l1_ratio=0.50, random_state=0)\n",
        "fit = en.fit(X_train, y_train)\n",
        "preds = fit.predict(X_test)\n",
        "metrics.mean_squared_error(y_test, preds)"
      ]
    },
    {
      "cell_type": "code",
      "execution_count": null,
      "metadata": {
        "id": "ephlfg3KAlL3"
      },
      "outputs": [],
      "source": [
        "%%timeit -r1\n",
        "knn = KNeighborsRegressor(n_neighbors=15)\n",
        "fit=knn.fit(X_train, y_train)\n",
        "preds = fit.predict(X_test)\n",
        "metrics.mean_squared_error(y_test, preds)"
      ]
    },
    {
      "cell_type": "markdown",
      "metadata": {
        "id": "MflxHhmROtwB"
      },
      "source": [
        "#### Time for fitting"
      ]
    },
    {
      "cell_type": "code",
      "execution_count": null,
      "metadata": {
        "id": "563KqxbfOUMA"
      },
      "outputs": [],
      "source": [
        "lasso = Lasso(alpha = 0.1)\n",
        "%timeit -r1 lasso_fit = lasso.fit(X_train, y_train)\n",
        "\n",
        "en = ElasticNet(alpha = 0.01, random_state=0)\n",
        "%timeit -r1 en_fit = en.fit(X_train, y_train)\n",
        "\n",
        "knn = KNeighborsRegressor(n_neighbors=15)\n",
        "%timeit -r1 knn_fit = knn.fit(X_train, y_train)\n"
      ]
    },
    {
      "cell_type": "markdown",
      "metadata": {
        "id": "6N40EMQVOwo6"
      },
      "source": [
        "#### Time for prediction"
      ]
    },
    {
      "cell_type": "code",
      "execution_count": null,
      "metadata": {
        "id": "HvIddGZ0Ozu_"
      },
      "outputs": [],
      "source": [
        "lasso = Lasso(alpha = 0.1)\n",
        "lasso_fit = lasso.fit(X_train, y_train)\n",
        "%timeit -r1 preds = lasso_fit.predict(X_test)\n",
        "\n",
        "en = ElasticNet(alpha = 0.01, random_state=0)\n",
        "en_fit = en.fit(X_train, y_train)\n",
        "%timeit -r1 preds = en_fit.predict(X_test)\n",
        "\n",
        "knn = KNeighborsRegressor(n_neighbors=15)\n",
        "fit=knn.fit(X_train, y_train)\n",
        "%timeit -r1 preds = fit.predict(X_test)\n"
      ]
    },
    {
      "cell_type": "markdown",
      "metadata": {
        "id": "vNsqiH0_PDa9"
      },
      "source": [
        "#### Memory Usage"
      ]
    },
    {
      "cell_type": "code",
      "execution_count": null,
      "metadata": {
        "id": "tz78DJXtA0pt"
      },
      "outputs": [],
      "source": [
        "%%memit -r1\n",
        "lasso = Lasso(alpha = 0.01)\n",
        "fit = lasso.fit(X_train, y_train)\n",
        "preds = fit.predict(X_test)\n",
        "metrics.mean_squared_error(y_test, preds)"
      ]
    },
    {
      "cell_type": "code",
      "execution_count": null,
      "metadata": {
        "id": "NxT36Q9iA3i4"
      },
      "outputs": [],
      "source": [
        "%%memit -r1\n",
        "en = ElasticNet(alpha=0.00001, l1_ratio=0.50, random_state=0)\n",
        "fit = en.fit(X_train, y_train)\n",
        "preds = fit.predict(X_test)\n",
        "metrics.mean_squared_error(y_test, preds)"
      ]
    },
    {
      "cell_type": "code",
      "execution_count": null,
      "metadata": {
        "id": "-zm1jr8rA75G"
      },
      "outputs": [],
      "source": [
        "%%memit -r1\n",
        "knn = KNeighborsRegressor(n_neighbors=15)\n",
        "fit=knn.fit(X_train, y_train)\n",
        "preds = fit.predict(X_test)\n",
        "metrics.mean_squared_error(y_test, preds)"
      ]
    },
    {
      "cell_type": "markdown",
      "metadata": {
        "id": "fa-H96bsgm4O"
      },
      "source": []
    }
  ],
  "metadata": {
    "colab": {
      "provenance": []
    },
    "kernelspec": {
      "display_name": "Python 3.9 (tensorflow)",
      "language": "python",
      "name": "tensorflow"
    },
    "language_info": {
      "codemirror_mode": {
        "name": "ipython",
        "version": 3
      },
      "file_extension": ".py",
      "mimetype": "text/x-python",
      "name": "python",
      "nbconvert_exporter": "python",
      "pygments_lexer": "ipython3",
      "version": "3.9.18"
    }
  },
  "nbformat": 4,
  "nbformat_minor": 0
}
